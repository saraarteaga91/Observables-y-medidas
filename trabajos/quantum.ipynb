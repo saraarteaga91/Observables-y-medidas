{
 "cells": [
  {
   "cell_type": "code",
   "execution_count": 3,
   "metadata": {},
   "outputs": [
    {
     "name": "stdout",
     "output_type": "stream",
     "text": [
      "Probabilidad en el índice 2: 0.05263157894736842\n",
      "Probabilidad de transición: 50.00000000000001\n"
     ]
    }
   ],
   "source": [
    "import numpy as np\n",
    "\n",
    "# Inicializar los estados cuánticos |psi> y |phi> usando números complejos\n",
    "estado_a = np.array([complex(-3, -1), complex(0, -2), complex(0, 1), complex(2, 0)])\n",
    "estado_b = np.array([complex(1, 1), complex(0, 1), complex(1, -1), complex(0, 2)])\n",
    "\n",
    "# Función para obtener la probabilidad en un índice específico\n",
    "def obtener_probabilidad_en_indice(estado_cuantico, indice_cercano):\n",
    "    total_norma = np.sum(np.abs(estado_cuantico)**2)\n",
    "    return np.abs(estado_cuantico[indice_cercano])**2 / total_norma\n",
    "\n",
    "# Función para calcular la probabilidad de transición entre dos estados cuánticos\n",
    "def calcular_probabilidad_cambio(estado_a, estado_b):\n",
    "    producto_intermedio = np.vdot(estado_a, estado_b)  # Producto interno conjugado\n",
    "    return np.abs(producto_intermedio)**2\n",
    "\n",
    "# Calcular la probabilidad de estar en la posición 2 en estado_a\n",
    "probabilidad_indice_2 = obtener_probabilidad_en_indice(estado_a, 2)\n",
    "print(f\"Probabilidad en el índice 2: {probabilidad_indice_2}\")\n",
    "\n",
    "# Calcular la probabilidad de transición de estado_a a estado_b\n",
    "probabilidad_transicion_resultante = calcular_probabilidad_cambio(estado_a, estado_b)\n",
    "print(f\"Probabilidad de transición: {probabilidad_transicion_resultante}\")\n"
   ]
  },
  {
   "cell_type": "code",
   "execution_count": null,
   "metadata": {},
   "outputs": [],
   "source": []
  }
 ],
 "metadata": {
  "kernelspec": {
   "display_name": ".venv",
   "language": "python",
   "name": "python3"
  },
  "language_info": {
   "codemirror_mode": {
    "name": "ipython",
    "version": 3
   },
   "file_extension": ".py",
   "mimetype": "text/x-python",
   "name": "python",
   "nbconvert_exporter": "python",
   "pygments_lexer": "ipython3",
   "version": "3.11.6"
  }
 },
 "nbformat": 4,
 "nbformat_minor": 2
}
